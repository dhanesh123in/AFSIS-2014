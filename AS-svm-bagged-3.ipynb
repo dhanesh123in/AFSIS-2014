{
 "metadata": {
  "name": "",
  "signature": "sha256:b64fd5e9e0012a8a5bdbfbc9e50c7f055f13e9db8f2ed06af46ee194eeefdd5c"
 },
 "nbformat": 3,
 "nbformat_minor": 0,
 "worksheets": [
  {
   "cells": [
    {
     "cell_type": "code",
     "collapsed": false,
     "input": [
      "import pandas as pd\n",
      "import numpy as np\n",
      "from sklearn import svm, cross_validation\n",
      "from sklearn.ensemble import BaggingRegressor"
     ],
     "language": "python",
     "metadata": {},
     "outputs": [],
     "prompt_number": 1
    },
    {
     "cell_type": "code",
     "collapsed": false,
     "input": [
      "train = pd.read_csv('training.csv')\n",
      "test = pd.read_csv('sorted_test.csv')\n",
      "labels = train[['Ca','P','pH','SOC','Sand']].values\n",
      "\n",
      "train.drop(['Ca', 'P', 'pH', 'SOC', 'Sand', 'PIDN'], axis=1, inplace=True)\n",
      "test.drop('PIDN', axis=1, inplace=True)"
     ],
     "language": "python",
     "metadata": {},
     "outputs": [],
     "prompt_number": 2
    },
    {
     "cell_type": "code",
     "collapsed": false,
     "input": [
      "#xtrain, xtest = np.array(train)[:,:3578], np.array(test)[:,:3578]\n",
      "xtrain, xtest = np.array(train)[:,:3594], np.array(test)[:,:3594]\n",
      "\n",
      "xtrain[:,3593]=(xtrain[:,3593]=='Topsoil')*1.0\n",
      "\n",
      "print (xtrain[1,3593])\n",
      "\n",
      "xtest[:,3593]=(xtest[:,3593]=='Topsoil')*1.0"
     ],
     "language": "python",
     "metadata": {},
     "outputs": [
      {
       "output_type": "stream",
       "stream": "stdout",
       "text": [
        "0.0\n"
       ]
      }
     ],
     "prompt_number": 3
    },
    {
     "cell_type": "code",
     "collapsed": false,
     "input": [
      "bages=BaggingRegressor(base_estimator=svm.SVR(C=10000.0),n_estimators=10,max_samples=0.95,max_features=0.9,bootstrap_features=True,oob_score=True,random_state=1,verbose=0,n_jobs=-1)"
     ],
     "language": "python",
     "metadata": {},
     "outputs": [],
     "prompt_number": 25
    },
    {
     "cell_type": "code",
     "collapsed": false,
     "input": [
      "preds = np.zeros((xtest.shape[0], 5))\n",
      "for i in range(5):\n",
      "    print \"=====\"+str(i+1)+\"=====\"\n",
      "    bages.fit(xtrain, labels[:,i])\n",
      "    preds[:,i] = bages.predict(xtest).astype(float)\n",
      "    print bages.oob_score_"
     ],
     "language": "python",
     "metadata": {},
     "outputs": [
      {
       "output_type": "stream",
       "stream": "stdout",
       "text": [
        "=====1=====\n",
        "0.900832503566"
       ]
      },
      {
       "output_type": "stream",
       "stream": "stdout",
       "text": [
        "\n",
        "=====2=====\n",
        "0.150128648244"
       ]
      },
      {
       "output_type": "stream",
       "stream": "stdout",
       "text": [
        "\n",
        "=====3=====\n",
        "0.872844664871"
       ]
      },
      {
       "output_type": "stream",
       "stream": "stdout",
       "text": [
        "\n",
        "=====4=====\n",
        "0.928742413657"
       ]
      },
      {
       "output_type": "stream",
       "stream": "stdout",
       "text": [
        "\n",
        "=====5=====\n",
        "0.895416624887"
       ]
      },
      {
       "output_type": "stream",
       "stream": "stdout",
       "text": [
        "\n"
       ]
      }
     ],
     "prompt_number": 26
    },
    {
     "cell_type": "code",
     "collapsed": false,
     "input": [
      "print preds\n",
      "\n",
      "for i in range(5):\n",
      "    print \"=====\"+str(i)+\"=====\"\n",
      "    print min(xx for xx in preds[:,i])\n",
      "    print max(xx for xx in preds[:,i])"
     ],
     "language": "python",
     "metadata": {},
     "outputs": [
      {
       "output_type": "stream",
       "stream": "stdout",
       "text": [
        "[[-0.5225937   0.0165628  -1.24507289 -0.50795821  1.67681045]\n",
        " [ 0.21754041 -0.09204046  0.92902741  0.32219221 -1.95740122]\n",
        " [-0.13206583 -0.31763685  0.07239287  0.15539498 -0.75275648]\n",
        " ..., \n",
        " [-0.24871768  0.14596516 -0.20562176 -0.01993444  0.32528364]\n",
        " [-0.58539715 -0.40562305 -0.85235153  1.2239886  -0.70644177]\n",
        " [-0.47797914 -0.4514651  -2.05722025 -0.34552223  0.25142884]]\n",
        "=====0=====\n",
        "-0.792872011187\n",
        "3.76292287639\n",
        "=====1=====\n",
        "-0.75125771383\n",
        "1.30406654866\n",
        "=====2=====\n",
        "-2.55575761924\n",
        "2.84096556334\n",
        "=====3=====\n",
        "-1.2844358319\n",
        "3.00745750246\n",
        "=====4=====\n",
        "-2.19001058225\n",
        "2.4252506191\n"
       ]
      }
     ],
     "prompt_number": 27
    },
    {
     "cell_type": "code",
     "collapsed": false,
     "input": [
      "sample = pd.read_csv('sample_submission.csv')\n",
      "sample['Ca'] = preds[:,0]\n",
      "sample['P'] = preds[:,1]\n",
      "sample['pH'] = preds[:,2]\n",
      "sample['SOC'] = preds[:,3]\n",
      "sample['Sand'] = preds[:,4]\n",
      "\n",
      "sample.to_csv('Bagged_SVMs-5.csv', index = False)"
     ],
     "language": "python",
     "metadata": {},
     "outputs": [],
     "prompt_number": 28
    },
    {
     "cell_type": "code",
     "collapsed": false,
     "input": [],
     "language": "python",
     "metadata": {},
     "outputs": [],
     "prompt_number": 8
    }
   ],
   "metadata": {}
  }
 ]
}